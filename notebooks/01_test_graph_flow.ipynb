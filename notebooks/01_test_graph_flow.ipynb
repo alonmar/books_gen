{
 "cells": [
  {
   "cell_type": "code",
   "execution_count": 2,
   "id": "8b757263",
   "metadata": {},
   "outputs": [],
   "source": [
    "from books_gen.graphs.graph import create_book_generation_graph \n",
    "from books_gen.graphs.graph import BookGenerationState "
   ]
  },
  {
   "cell_type": "code",
   "execution_count": 6,
   "id": "5a510808",
   "metadata": {},
   "outputs": [],
   "source": [
    "book_graph = create_book_generation_graph().compile()"
   ]
  },
  {
   "cell_type": "code",
   "execution_count": 7,
   "id": "83e01bb0",
   "metadata": {},
   "outputs": [
    {
     "name": "stdout",
     "output_type": "stream",
     "text": [
      "                                  +-----------+                                   \n",
      "                                  | __start__ |                                   \n",
      "                                  +-----------+                                   \n",
      "                                        *                                         \n",
      "                                        *                                         \n",
      "                                        *                                         \n",
      "                                  +------------+                                  \n",
      "                                  | initialize |.                                 \n",
      "                                  +------------+ .....                            \n",
      "                                ...                   .....                       \n",
      "                              ..                           .....                  \n",
      "                            ..                                  .....             \n",
      "                +----------------+                                   ...          \n",
      "                | connector_node |                                     .          \n",
      "                +----------------+                                     .          \n",
      "                 ...            ...                                    .          \n",
      "               ..                  ..                                  .          \n",
      "             ..                      ..                                .          \n",
      "+------------------+           +------------------+           +----------------+  \n",
      "| continue_chapter |           | generate_chapter |           | generate_index |  \n",
      "+------------------+...        +------------------+        ***+----------------+  \n",
      "                       ......            .            *****                       \n",
      "                             .....       .       *****                            \n",
      "                                  ...    .    ***                                 \n",
      "                                   +---------+                                    \n",
      "                                   | __end__ |                                    \n",
      "                                   +---------+                                    \n"
     ]
    }
   ],
   "source": [
    "print(book_graph.get_graph().draw_ascii())"
   ]
  },
  {
   "cell_type": "code",
   "execution_count": 6,
   "id": "58454e31",
   "metadata": {},
   "outputs": [],
   "source": [
    "\n",
    "\n",
    "async def generate_response_without_memory(book: BookGenerationState):\n",
    "    graph = graph_builder.compile()\n",
    "    output_state = await graph.ainvoke(\n",
    "        input={\n",
    "            \"book_id\": book[\"book_id\"],\n",
    "            \"title\": book['title'],\n",
    "            \"synopsis\": book['synopsis'],\n",
    "        },\n",
    "    )\n",
    "    print(output_state)\n",
    "    #last_message = output_state[\"messages\"][-1]\n",
    "    return output_state"
   ]
  },
  {
   "cell_type": "code",
   "execution_count": 3,
   "id": "4c238813",
   "metadata": {},
   "outputs": [],
   "source": [
    "graph_builder = create_book_generation_graph()"
   ]
  },
  {
   "cell_type": "code",
   "execution_count": 4,
   "id": "ca44f3ca",
   "metadata": {},
   "outputs": [],
   "source": [
    "test_book = BookGenerationState(\n",
    "    book_id=\"5b11efdd-0e82-43ad-a11b-5d37858a243f\",\n",
    "    title=\"El ave que podia ver las estrellas\",\n",
    "    synopsis=\"Esta es la historia de una paloma que su sueño era volar tan cerca del cielo para poder estar con las estrellas\",\n",
    ")"
   ]
  },
  {
   "cell_type": "code",
   "execution_count": 5,
   "id": "ec64483f",
   "metadata": {},
   "outputs": [
    {
     "ename": "NameError",
     "evalue": "name 'generate_response_without_memory' is not defined",
     "output_type": "error",
     "traceback": [
      "\u001b[31m---------------------------------------------------------------------------\u001b[39m",
      "\u001b[31mNameError\u001b[39m                                 Traceback (most recent call last)",
      "\u001b[36mCell\u001b[39m\u001b[36m \u001b[39m\u001b[32mIn[5]\u001b[39m\u001b[32m, line 1\u001b[39m\n\u001b[32m----> \u001b[39m\u001b[32m1\u001b[39m x = \u001b[38;5;28;01mawait\u001b[39;00m \u001b[43mgenerate_response_without_memory\u001b[49m(test_book)\n",
      "\u001b[31mNameError\u001b[39m: name 'generate_response_without_memory' is not defined"
     ]
    }
   ],
   "source": [
    "x = await generate_response_without_memory(test_book)"
   ]
  },
  {
   "cell_type": "code",
   "execution_count": 43,
   "id": "fd584fd5",
   "metadata": {},
   "outputs": [
    {
     "data": {
      "text/plain": [
       "{'book_id': '7f097e84-9eb4-41f6-bf0e-f0cc741afb4f',\n",
       " 'title': 'El ave que podia ver las estrellas',\n",
       " 'synopsis': 'Esta es la historia de una paloma que su sueño era volar tan cerca del cielo para poder estar con las estrellas',\n",
       " 'index': {'chapters': [{'id': 'cap_1',\n",
       "    'title': 'El Sueño de la Paloma',\n",
       "    'subchapters': [{'id': 'subcap_1_1',\n",
       "      'title': 'El Comienzo de la Aventura'},\n",
       "     {'id': 'subcap_1_2', 'title': 'La Inspiración Celestial'}]},\n",
       "   {'id': 'cap_2',\n",
       "    'title': 'La Preparación del Viaje',\n",
       "    'subchapters': [{'id': 'subcap_2_1',\n",
       "      'title': 'La Preparación del Alimento'},\n",
       "     {'id': 'subcap_2_2', 'title': 'El Plan de Vuelo'}]},\n",
       "   {'id': 'cap_3',\n",
       "    'title': 'El Vuelo de la Paloma',\n",
       "    'subchapters': [{'id': 'subcap_3_1', 'title': 'La Llegada a la Altura'},\n",
       "     {'id': 'subcap_3_2',\n",
       "      'title': 'La Experiencia de Estar con las Estrellas'}]},\n",
       "   {'id': 'cap_4',\n",
       "    'title': 'La Regreso a la Tierra',\n",
       "    'subchapters': [{'id': 'subcap_4_1', 'title': 'La Caída de la Paloma'},\n",
       "     {'id': 'subcap_4_2', 'title': 'El Reflejo de la Experiencia'}]},\n",
       "   {'id': 'cap_5', 'title': 'El Legado de la Paloma', 'subchapters': []}]},\n",
       " 'current_chapter': '',\n",
       " 'generated_content': {},\n",
       " 'error': 'No se ha seleccionado ningún capítulo para generar'}"
      ]
     },
     "execution_count": 43,
     "metadata": {},
     "output_type": "execute_result"
    }
   ],
   "source": [
    "x"
   ]
  },
  {
   "cell_type": "code",
   "execution_count": 7,
   "id": "df10f25d",
   "metadata": {},
   "outputs": [],
   "source": [
    "test_book = BookGenerationState(\n",
    "    book_id=\"08422b0e-9e2b-44cc-8a81-4dd6e2c20992\",\n",
    "    title=\"El ave que podia ver las estrellas\",\n",
    "    synopsis=\"Esta es la historia de una paloma que su sueño era volar tan cerca del cielo para poder estar con las estrellas\",\n",
    "    current_chapter=\"cap_1\",\n",
    ")"
   ]
  },
  {
   "cell_type": "code",
   "execution_count": 8,
   "id": "b70d3dd0",
   "metadata": {},
   "outputs": [
    {
     "name": "stdout",
     "output_type": "stream",
     "text": [
      "{'messages': [], 'book_id': '08422b0e-9e2b-44cc-8a81-4dd6e2c20992', 'title': 'El ave que podia ver las estrellas', 'synopsis': 'Esta es la historia de una paloma que su sueño era volar tan cerca del cielo para poder estar con las estrellas', 'index': {'chapters': [{'id': 'cap_1', 'title': 'El Sueño de una Paloma', 'description': 'Conoce a Luna, una paloma que tiene un sueño que parece imposible de alcanzar. Aprende sobre su infancia y su deseo de volar tan alto como puedan las estrellas.'}, {'id': 'cap_2', 'title': 'La Obsesión por las Estrellas', 'description': 'Luna se obsesiona con las estrellas y comienza a estudiar su movimiento y su ubicación en el cielo. Descubre que no es solo una curiosidad, sino un camino hacia su sueño.'}, {'id': 'cap_3', 'title': 'La Conexión con el Cielo', 'description': 'Luna comienza a sentir una conexión especial con el cielo y las estrellas. Aprende a leer las señales del universo y a entender su lugar en el mundo.'}, {'id': 'cap_4', 'title': 'El Primer Intento', 'description': 'Luna decide dar el primer paso hacia su sueño y comienza a entrenarse para volar más alto. Descubre que el miedo y la duda pueden ser obstáculos importantes.'}, {'id': 'cap_5', 'title': 'La Caída y la Lección', 'description': 'Luna experimenta su primer fracaso en su intento de alcanzar las estrellas. Aprende a no rendirse y a encontrar la lección en cada caída.'}, {'id': 'cap_6', 'title': 'El Poder de la Perseverancia', 'description': 'Luna se da cuenta de que la perseverancia es la clave para alcanzar su sueño. Comienza a entrenarse con más intensidad y a creer en sí misma.'}, {'id': 'cap_7', 'title': 'La Noche de la Lluna Llena', 'description': 'Luna enfrenta su momento más difícil. Se pregunta si es lo suficientemente fuerte para alcanzar las estrellas. Pero justo cuando necesita más, recibe un regalo inesperado.'}, {'id': 'cap_8', 'title': 'El Regalo de la Luna', 'description': 'Luna recibe un regalo que la ayudará a superar sus miedos y a alcanzar sus objetivos. Descubre que la ayuda puede llegar de lugares inesperados.'}, {'id': 'cap_9', 'title': 'El Vuelo Mágico', 'description': 'Luna finalmente logra volar tan alto como las estrellas. Experimenta una sensación de libertad y alegría que nunca había sentido antes.'}, {'id': 'cap_10', 'title': 'La Estrella interior', 'description': 'Luna se da cuenta de que la verdadera magia siempre estaba dentro de ella. Aprende a encontrar la estrella interior y a llevarla con ella a todas partes.'}]}, 'error': 'Error al generar el índice: The api_key client option must be set either by passing api_key to the client or by setting the GROQ_API_KEY environment variable'}\n"
     ]
    }
   ],
   "source": [
    "x = await generate_response_without_memory(test_book)"
   ]
  }
 ],
 "metadata": {
  "kernelspec": {
   "display_name": ".venv",
   "language": "python",
   "name": "python3"
  },
  "language_info": {
   "codemirror_mode": {
    "name": "ipython",
    "version": 3
   },
   "file_extension": ".py",
   "mimetype": "text/x-python",
   "name": "python",
   "nbconvert_exporter": "python",
   "pygments_lexer": "ipython3",
   "version": "3.12.0"
  }
 },
 "nbformat": 4,
 "nbformat_minor": 5
}
